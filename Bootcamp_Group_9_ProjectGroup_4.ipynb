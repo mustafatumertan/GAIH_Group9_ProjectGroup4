{
  "nbformat": 4,
  "nbformat_minor": 0,
  "metadata": {
    "colab": {
      "provenance": [],
      "collapsed_sections": [],
      "machine_shape": "hm"
    },
    "kernelspec": {
      "name": "python3",
      "display_name": "Python 3"
    },
    "language_info": {
      "name": "python"
    },
    "accelerator": "GPU",
    "gpuClass": "premium"
  },
  "cells": [
    {
      "cell_type": "markdown",
      "source": [
        "# Dataset"
      ],
      "metadata": {
        "id": "WHLzbid5ReCU"
      }
    },
    {
      "cell_type": "markdown",
      "source": [
        "0 = air_conditioner\n",
        "1 = car_horn\n",
        "2 = children_playing\n",
        "3 = dog_bark\n",
        "4 = drilling\n",
        "5 = engine_idling\n",
        "6 = gun_shot\n",
        "7 = jackhammer\n",
        "8 = siren\n",
        "9 = street_music"
      ],
      "metadata": {
        "id": "GnnvwTUlRl1S"
      }
    },
    {
      "cell_type": "markdown",
      "source": [
        "# How to Read Files From Google Drive without uploading to Colab"
      ],
      "metadata": {
        "id": "hih9ICASRpLv"
      }
    },
    {
      "cell_type": "markdown",
      "source": [
        "The shortcut of the 'shared' spectrograms was created on \"My Drive\" in the following way:\n",
        "\n",
        "1. Click the official link: https://drive.google.com/drive/folders/1xey3vAVNDjWxnSfhuUsf_5dGANZWmCog?usp=sharing\n",
        "2. Go to '**Shared With Me**' folder in your Google Drive\n",
        "Find the '**spectrograms**' folder that's shared by Global AI Hub.\n",
        "3. Right-Click on the shared 'spectrograms' folder and select \"**Add Shortcut to Drive**\"\n",
        "4. You can then **mount** your Google Drive to Colab and use the folder"
      ],
      "metadata": {
        "id": "quGs-_1lVIrl"
      }
    },
    {
      "cell_type": "code",
      "source": [
        "# Imports\n",
        "import os\n",
        "import cv2\n",
        "from google.colab.patches import cv2_imshow #cv2.imshow() is disabled in Colab, because it causes Jupyter sessions to crash\n",
        "import numpy as np\n",
        "import pandas as pd\n",
        "import time\n",
        "from sklearn.model_selection import train_test_split"
      ],
      "metadata": {
        "id": "DSVuniVcmgiC"
      },
      "execution_count": 2,
      "outputs": []
    },
    {
      "cell_type": "markdown",
      "source": [
        "# Test Image GrayScale Transformation"
      ],
      "metadata": {
        "id": "_H3mM03PiaZ8"
      }
    },
    {
      "cell_type": "code",
      "source": [
        "def GetClassName(id):\n",
        "  ids = [0, 1, 2, 3, 4, 5, 6, 7, 8, 9]\n",
        "  classes = [\"air_conditioner\", \"car_horn\", \"children_playing\", \"dog_bark\", \"drilling\", \"engine_idling\", \"gun_shot\", \"jackhammer\", \"siren\", \"street_music\" ]\n",
        "  d = dict(zip(ids, classes))\n",
        "  return d[id]\n",
        "\n",
        "name = GetClassName(5)\n",
        "print(name)"
      ],
      "metadata": {
        "colab": {
          "base_uri": "https://localhost:8080/"
        },
        "id": "ddyguSZf-iEf",
        "outputId": "1ae1f228-f903-4669-8cc5-a53d969df86b"
      },
      "execution_count": 3,
      "outputs": [
        {
          "output_type": "stream",
          "name": "stdout",
          "text": [
            "engine_idling\n"
          ]
        }
      ]
    },
    {
      "cell_type": "code",
      "source": [
        "img = cv2.imread(\"drive/MyDrive/spectrograms/0/100852-0-0-0.png\")\n",
        "gray_img = cv2.cvtColor(img, cv2.COLOR_BGR2GRAY)\n",
        "cv2_imshow(gray_img)"
      ],
      "metadata": {
        "colab": {
          "base_uri": "https://localhost:8080/",
          "height": 391
        },
        "id": "G5to50Wvikd3",
        "outputId": "6ea99c43-1fc7-4cdf-80f1-852473a8fbc8"
      },
      "execution_count": 4,
      "outputs": [
        {
          "output_type": "display_data",
          "data": {
            "text/plain": [
              "<PIL.Image.Image image mode=L size=500x374 at 0x7F8826E59E90>"
            ],
            "image/png": "[encoded data removed]"
          },
          "metadata": {}
        }
      ]
    },
    {
      "cell_type": "markdown",
      "source": [
        "# Test Image Resizing"
      ],
      "metadata": {
        "id": "mTqucBbWjsE0"
      }
    },
    {
      "cell_type": "code",
      "source": [
        "def ResizeImage(img, percentScale):\n",
        "  width = int(img.shape[1] * percentScale / 100)\n",
        "  height = int(img.shape[0] * percentScale / 100)\n",
        "  dim = (width, height)\n",
        "  \n",
        "  # resize image\n",
        "  return cv2.resize(img, dim, interpolation = cv2.INTER_AREA)\n",
        "\n",
        "def ResizeImageSquare(img, size):\n",
        "  return cv2.resize(img, (size, size), interpolation=cv2.INTER_AREA)"
      ],
      "metadata": {
        "id": "XMjM_Wd06IfM"
      },
      "execution_count": 5,
      "outputs": []
    },
    {
      "cell_type": "code",
      "source": [
        "# resize image\n",
        "imageSize = 128\n",
        "\n",
        "resized = ResizeImageSquare(gray_img, imageSize)\n",
        "\n",
        "print('Original Dimensions : ', gray_img.shape)\n",
        "print('Resized Dimensions : ', resized.shape)\n",
        "cv2_imshow(resized)"
      ],
      "metadata": {
        "colab": {
          "base_uri": "https://localhost:8080/",
          "height": 180
        },
        "id": "RRbU-OG1kfrB",
        "outputId": "f0f91589-b3c3-456b-98e0-74347c8313f5"
      },
      "execution_count": 6,
      "outputs": [
        {
          "output_type": "stream",
          "name": "stdout",
          "text": [
            "Original Dimensions :  (374, 500)\n",
            "Resized Dimensions :  (128, 128)\n"
          ]
        },
        {
          "output_type": "display_data",
          "data": {
            "text/plain": [
              "<PIL.Image.Image image mode=L size=128x128 at 0x7F8804A54E50>"
            ],
            "image/png": "[encoded data removed]"
          },
          "metadata": {}
        }
      ]
    },
    {
      "cell_type": "markdown",
      "source": [
        "# Test Normalization"
      ],
      "metadata": {
        "id": "cL5PjLMEmufA"
      }
    },
    {
      "cell_type": "code",
      "source": [
        "def NormalizeImage(img):\n",
        "  return img/255;"
      ],
      "metadata": {
        "id": "mXviAw0n6xfW"
      },
      "execution_count": 7,
      "outputs": []
    },
    {
      "cell_type": "code",
      "source": [
        "normalizedImg = NormalizeImage(resized)\n",
        "print(\"Before normalization\")\n",
        "cv2_imshow(resized)\n",
        "print(resized)\n",
        "print(\"After normalization\")\n",
        "cv2_imshow(normalizedImg)\n",
        "print(normalizedImg)"
      ],
      "metadata": {
        "colab": {
          "base_uri": "https://localhost:8080/",
          "height": 551
        },
        "id": "7nGwSalzmw2a",
        "outputId": "974a5cbd-f059-4d85-ba7d-f7028c3632b8"
      },
      "execution_count": 8,
      "outputs": [
        {
          "output_type": "stream",
          "name": "stdout",
          "text": [
            "Before normalization\n"
          ]
        },
        {
          "output_type": "display_data",
          "data": {
            "text/plain": [
              "<PIL.Image.Image image mode=L size=128x128 at 0x7F8804A5E910>"
            ],
            "image/png": "[encoded data removed]"
          },
          "metadata": {}
        },
        {
          "output_type": "stream",
          "name": "stdout",
          "text": [
            "[[255  67   0 ...   0   0   0]\n",
            " [255  68   0 ...   0   0   0]\n",
            " [255  68   0 ...   0   0   1]\n",
            " ...\n",
            " [255  68  54 ... 177 170 140]\n",
            " [255 131 104 ... 137 134 124]\n",
            " [255 255 255 ... 255 255 255]]\n",
            "After normalization\n"
          ]
        },
        {
          "output_type": "display_data",
          "data": {
            "text/plain": [
              "<PIL.Image.Image image mode=L size=128x128 at 0x7F8804A5E710>"
            ],
            "image/png": "[encoded data removed]"
          },
          "metadata": {}
        },
        {
          "output_type": "stream",
          "name": "stdout",
          "text": [
            "[[1.         0.2627451  0.         ... 0.         0.         0.        ]\n",
            " [1.         0.26666667 0.         ... 0.         0.         0.        ]\n",
            " [1.         0.26666667 0.         ... 0.         0.         0.00392157]\n",
            " ...\n",
            " [1.         0.26666667 0.21176471 ... 0.69411765 0.66666667 0.54901961]\n",
            " [1.         0.51372549 0.40784314 ... 0.5372549  0.5254902  0.48627451]\n",
            " [1.         1.         1.         ... 1.         1.         1.        ]]\n"
          ]
        }
      ]
    },
    {
      "cell_type": "markdown",
      "source": [
        "# Loop the folder structure and Read/Resize/Convert/Normalize Images\n"
      ],
      "metadata": {
        "id": "Yz5BsbXMqgW-"
      }
    },
    {
      "cell_type": "code",
      "source": [
        "X_Data = []\n",
        "Y_Data = []\n",
        "spectrogramsFolder = \"drive/MyDrive/spectrograms\"\n",
        "\n",
        "tic = time.perf_counter()\n",
        "\n",
        "for sf in os.listdir(spectrogramsFolder):\n",
        "\n",
        "    subFolder = os.path.join(spectrogramsFolder, sf)\n",
        "\n",
        "    for file in os.listdir(subFolder):\n",
        "\n",
        "      filePath = os.path.join(subFolder, file)\n",
        "      \n",
        "      # convert the folder name to integer and add to Y_Data list\n",
        "      Y_Data.append(int(sf))\n",
        "\n",
        "      if os.path.isfile(filePath):\n",
        "        \n",
        "        #Read the image\n",
        "        img_i = cv2.imread(filePath)\n",
        "\n",
        "        #Convert to grayscale\n",
        "        gray_i = cv2.cvtColor(img_i, cv2.COLOR_BGR2GRAY)\n",
        "\n",
        "        #resize by preserving the aspect ratio\n",
        "        resized_i = ResizeImageSquare(gray_i, imageSize)\n",
        "\n",
        "        #normalize image\n",
        "        normalized_i = NormalizeImage(resized_i)\n",
        "\n",
        "        # Add the normalized image to X_Data List\n",
        "        X_Data.append(normalized_i)\n",
        "\n",
        "toc = time.perf_counter()\n",
        "print(f\"{len(Y_Data)} Images processed in {toc - tic:0.4f} seconds\")"
      ],
      "metadata": {
        "colab": {
          "base_uri": "https://localhost:8080/"
        },
        "id": "IT52HBBEqfln",
        "outputId": "e6760cf5-6e64-480d-b829-7a44edc0b4a0"
      },
      "execution_count": 9,
      "outputs": [
        {
          "output_type": "stream",
          "name": "stdout",
          "text": [
            "8732 Images processed in 179.3032 seconds\n"
          ]
        }
      ]
    },
    {
      "cell_type": "markdown",
      "source": [
        "# Prepare the Train, Test, and Validation Data"
      ],
      "metadata": {
        "id": "VMP4ytjFuwX3"
      }
    },
    {
      "cell_type": "code",
      "source": [
        "def MapToClassNameList(lst):\n",
        "  new_list = []\n",
        "  for item in lst:\n",
        "    new_list.append(GetClassName(item) + \" (\" + str(item) + \")\")\n",
        "  return new_list"
      ],
      "metadata": {
        "id": "dVq4iYrKEr8x"
      },
      "execution_count": 10,
      "outputs": []
    },
    {
      "cell_type": "code",
      "source": [
        "X_Train, X_Temp, Y_Train, Y_Temp = train_test_split(X_Data, Y_Data, train_size = 0.8)\n",
        "X_Val, X_Test, Y_Val, Y_Test = train_test_split(X_Temp, Y_Temp, train_size = 0.5)\n",
        "\n",
        "mapped = MapToClassNameList(Y_Train)\n",
        "df_Y_Train = pd.DataFrame(mapped)\n",
        "print(\"***********************************************\")\n",
        "print(f\"Total number of training data: {df_Y_Train[0].count()}\")\n",
        "print(\"Number of spectrograms in each category:\")\n",
        "print(df_Y_Train[0].value_counts())\n",
        "\n",
        "mapped = MapToClassNameList(Y_Val)\n",
        "df_Y_Val = pd.DataFrame(mapped)\n",
        "print(\" \")\n",
        "print(\"***********************************************\")\n",
        "print(f\"Total number of Validation data: {df_Y_Val[0].count()}\")\n",
        "print(\"Number of spectrograms in each category:\")\n",
        "print(df_Y_Val[0].value_counts())\n",
        "\n",
        "mapped = MapToClassNameList(Y_Test)\n",
        "df_Y_Test = pd.DataFrame(mapped)\n",
        "print(\" \")\n",
        "print(\"***********************************************\")\n",
        "print(f\"Total number of Test data: {df_Y_Test[0].count()}\")\n",
        "print(\"Number of spectrograms in each category:\")\n",
        "print(df_Y_Test[0].value_counts())"
      ],
      "metadata": {
        "colab": {
          "base_uri": "https://localhost:8080/"
        },
        "id": "aPpGrLYPu2ik",
        "outputId": "413a475e-807e-4800-992d-d9fff975b964"
      },
      "execution_count": 11,
      "outputs": [
        {
          "output_type": "stream",
          "name": "stdout",
          "text": [
            "***********************************************\n",
            "Total number of training data: 6985\n",
            "Number of spectrograms in each category:\n",
            "jackhammer (7)          814\n",
            "children_playing (2)    810\n",
            "drilling (4)            807\n",
            "street_music (9)        797\n",
            "air_conditioner (0)     793\n",
            "dog_bark (3)            789\n",
            "engine_idling (5)       788\n",
            "siren (8)               741\n",
            "car_horn (1)            345\n",
            "gun_shot (6)            301\n",
            "Name: 0, dtype: int64\n",
            " \n",
            "***********************************************\n",
            "Total number of Validation data: 873\n",
            "Number of spectrograms in each category:\n",
            "air_conditioner (0)     107\n",
            "dog_bark (3)            106\n",
            "drilling (4)            105\n",
            "jackhammer (7)          103\n",
            "siren (8)                97\n",
            "street_music (9)         96\n",
            "engine_idling (5)        96\n",
            "children_playing (2)     88\n",
            "car_horn (1)             39\n",
            "gun_shot (6)             36\n",
            "Name: 0, dtype: int64\n",
            " \n",
            "***********************************************\n",
            "Total number of Test data: 874\n",
            "Number of spectrograms in each category:\n",
            "engine_idling (5)       116\n",
            "street_music (9)        107\n",
            "dog_bark (3)            105\n",
            "children_playing (2)    102\n",
            "air_conditioner (0)     100\n",
            "siren (8)                91\n",
            "drilling (4)             88\n",
            "jackhammer (7)           83\n",
            "car_horn (1)             45\n",
            "gun_shot (6)             37\n",
            "Name: 0, dtype: int64\n"
          ]
        }
      ]
    },
    {
      "cell_type": "code",
      "source": [
        "idx = 4533\n",
        "print(f\"The Training Data idx={idx} is classified as {GetClassName(Y_Train[idx])}\")\n",
        "print(\"The data is *****\")\n",
        "print(X_Train[idx])\n",
        "print(X_Train[idx].shape)"
      ],
      "metadata": {
        "colab": {
          "base_uri": "https://localhost:8080/"
        },
        "id": "ROMSWTERh2jg",
        "outputId": "9e0ddf30-1064-4bcd-90b9-5cc98a95b915"
      },
      "execution_count": 12,
      "outputs": [
        {
          "output_type": "stream",
          "name": "stdout",
          "text": [
            "The Training Data idx=4533 is classified as engine_idling\n",
            "The data is *****\n",
            "[[1.         0.2627451  0.         ... 0.         0.         0.        ]\n",
            " [1.         0.26666667 0.         ... 0.         0.         0.        ]\n",
            " [1.         0.26666667 0.         ... 0.         0.         0.        ]\n",
            " ...\n",
            " [1.         0.39215686 0.39215686 ... 0.25882353 0.34509804 0.41176471]\n",
            " [1.         0.53333333 0.43137255 ... 0.39607843 0.42745098 0.44313725]\n",
            " [1.         1.         1.         ... 1.         1.         1.        ]]\n",
            "(128, 128)\n"
          ]
        }
      ]
    },
    {
      "cell_type": "markdown",
      "source": [
        "# Construct the Neural Network"
      ],
      "metadata": {
        "id": "INUw0xuGpaF5"
      }
    },
    {
      "cell_type": "code",
      "source": [
        "import tensorflow as tf\n",
        "\n",
        "model = tf.keras.models.Sequential()\n",
        "\n",
        "#Feature Extraction Layers\n",
        "model.add(tf.keras.layers.Conv2D(imageSize, kernel_size=(3, 3), strides=(1, 1), padding=\"same\", activation=\"relu\", input_shape=(imageSize, imageSize, 1)))\n",
        "model.add(tf.keras.layers.MaxPooling2D((2, 2)))\n",
        "\n",
        "# Add more convolution and max pooling layers\n",
        "model.add(tf.keras.layers.Conv2D(imageSize, kernel_size=(3, 3), strides=(1, 1), padding=\"same\", activation=\"relu\", input_shape=(imageSize, imageSize, 1)))\n",
        "model.add(tf.keras.layers.MaxPooling2D((2, 2)))\n",
        "model.add(tf.keras.layers.Conv2D(imageSize, kernel_size=(3, 3), strides=(1, 1), padding=\"same\", activation=\"relu\", input_shape=(imageSize, imageSize, 1)))\n",
        "\n",
        "# Flatten the convolution layer\n",
        "model.add(tf.keras.layers.Flatten())\n",
        "\n",
        "# Add the dense layer and dropout layer\n",
        "model.add(tf.keras.layers.Dense(imageSize, activation=\"relu\"))\n",
        "model.add(tf.keras.layers.Dropout(0.5))\n",
        "\n",
        "# Add the dense layer and dropout layer\n",
        "model.add(tf.keras.layers.Dense(imageSize, activation=\"relu\"))\n",
        "model.add(tf.keras.layers.Dropout(0.5))\n",
        "\n",
        "# Add the output layer\n",
        "model.add(tf.keras.layers.Dense(10, activation=\"softmax\"))\n",
        "\n",
        "# Compile the model\n",
        "model.compile(optimizer=\"adam\", loss=\"sparse_categorical_crossentropy\", metrics=[\"accuracy\"])"
      ],
      "metadata": {
        "id": "DzfdPb-ypitQ"
      },
      "execution_count": 13,
      "outputs": []
    },
    {
      "cell_type": "markdown",
      "source": [
        "# Train the Model"
      ],
      "metadata": {
        "id": "h9uAxRkFvK9o"
      }
    },
    {
      "cell_type": "code",
      "source": [
        "# Train the model for 100 epochs with batch size of 128\n",
        "results = model.fit(np.array(X_Train), np.array(Y_Train), batch_size=128, epochs=50, validation_data=(np.array(X_Val), np.array(Y_Val)))"
      ],
      "metadata": {
        "colab": {
          "base_uri": "https://localhost:8080/"
        },
        "id": "zW6ZqHSfvN7Q",
        "outputId": "545554d5-d2cb-4e72-81f5-b792fc3f9e93"
      },
      "execution_count": 15,
      "outputs": [
        {
          "output_type": "stream",
          "name": "stdout",
          "text": [
            "Epoch 1/50\n",
            "55/55 [==============================] - 6s 116ms/step - loss: 1.8565 - accuracy: 0.3344 - val_loss: 1.1549 - val_accuracy: 0.6231\n",
            "Epoch 2/50\n",
            "55/55 [==============================] - 5s 99ms/step - loss: 1.2945 - accuracy: 0.5520 - val_loss: 0.8358 - val_accuracy: 0.7365\n",
            "Epoch 3/50\n",
            "55/55 [==============================] - 5s 99ms/step - loss: 1.0116 - accuracy: 0.6560 - val_loss: 0.6940 - val_accuracy: 0.7961\n",
            "Epoch 4/50\n",
            "55/55 [==============================] - 5s 99ms/step - loss: 0.8174 - accuracy: 0.7298 - val_loss: 0.6943 - val_accuracy: 0.7789\n",
            "Epoch 5/50\n",
            "55/55 [==============================] - 5s 99ms/step - loss: 0.6509 - accuracy: 0.7880 - val_loss: 0.5518 - val_accuracy: 0.8225\n",
            "Epoch 6/50\n",
            "55/55 [==============================] - 5s 99ms/step - loss: 0.5264 - accuracy: 0.8281 - val_loss: 0.4641 - val_accuracy: 0.8557\n",
            "Epoch 7/50\n",
            "55/55 [==============================] - 5s 99ms/step - loss: 0.4424 - accuracy: 0.8610 - val_loss: 0.4287 - val_accuracy: 0.8694\n",
            "Epoch 8/50\n",
            "55/55 [==============================] - 5s 99ms/step - loss: 0.3492 - accuracy: 0.8880 - val_loss: 0.4119 - val_accuracy: 0.8763\n",
            "Epoch 9/50\n",
            "55/55 [==============================] - 5s 99ms/step - loss: 0.3004 - accuracy: 0.9072 - val_loss: 0.4095 - val_accuracy: 0.8648\n",
            "Epoch 10/50\n",
            "55/55 [==============================] - 5s 99ms/step - loss: 0.2508 - accuracy: 0.9178 - val_loss: 0.3588 - val_accuracy: 0.8981\n",
            "Epoch 11/50\n",
            "55/55 [==============================] - 5s 99ms/step - loss: 0.2049 - accuracy: 0.9359 - val_loss: 0.3608 - val_accuracy: 0.8946\n",
            "Epoch 12/50\n",
            "55/55 [==============================] - 5s 99ms/step - loss: 0.2098 - accuracy: 0.9326 - val_loss: 0.4116 - val_accuracy: 0.8923\n",
            "Epoch 13/50\n",
            "55/55 [==============================] - 5s 99ms/step - loss: 0.1854 - accuracy: 0.9430 - val_loss: 0.4110 - val_accuracy: 0.8958\n",
            "Epoch 14/50\n",
            "55/55 [==============================] - 5s 99ms/step - loss: 0.1676 - accuracy: 0.9453 - val_loss: 0.3777 - val_accuracy: 0.8958\n",
            "Epoch 15/50\n",
            "55/55 [==============================] - 5s 99ms/step - loss: 0.1443 - accuracy: 0.9540 - val_loss: 0.4152 - val_accuracy: 0.9038\n",
            "Epoch 16/50\n",
            "55/55 [==============================] - 5s 99ms/step - loss: 0.1305 - accuracy: 0.9579 - val_loss: 0.4289 - val_accuracy: 0.8935\n",
            "Epoch 17/50\n",
            "55/55 [==============================] - 5s 99ms/step - loss: 0.1259 - accuracy: 0.9596 - val_loss: 0.4440 - val_accuracy: 0.9038\n",
            "Epoch 18/50\n",
            "55/55 [==============================] - 5s 99ms/step - loss: 0.1231 - accuracy: 0.9573 - val_loss: 0.4828 - val_accuracy: 0.8981\n",
            "Epoch 19/50\n",
            "55/55 [==============================] - 5s 99ms/step - loss: 0.1019 - accuracy: 0.9682 - val_loss: 0.4378 - val_accuracy: 0.8981\n",
            "Epoch 20/50\n",
            "55/55 [==============================] - 5s 99ms/step - loss: 0.0981 - accuracy: 0.9685 - val_loss: 0.4715 - val_accuracy: 0.9015\n",
            "Epoch 21/50\n",
            "55/55 [==============================] - 5s 99ms/step - loss: 0.1033 - accuracy: 0.9676 - val_loss: 0.5121 - val_accuracy: 0.8992\n",
            "Epoch 22/50\n",
            "55/55 [==============================] - 5s 99ms/step - loss: 0.0965 - accuracy: 0.9709 - val_loss: 0.4233 - val_accuracy: 0.9038\n",
            "Epoch 23/50\n",
            "55/55 [==============================] - 5s 99ms/step - loss: 0.0819 - accuracy: 0.9738 - val_loss: 0.4891 - val_accuracy: 0.9038\n",
            "Epoch 24/50\n",
            "55/55 [==============================] - 5s 99ms/step - loss: 0.0921 - accuracy: 0.9678 - val_loss: 0.4570 - val_accuracy: 0.8969\n",
            "Epoch 25/50\n",
            "55/55 [==============================] - 5s 99ms/step - loss: 0.0884 - accuracy: 0.9696 - val_loss: 0.4334 - val_accuracy: 0.9118\n",
            "Epoch 26/50\n",
            "55/55 [==============================] - 5s 99ms/step - loss: 0.0700 - accuracy: 0.9782 - val_loss: 0.4946 - val_accuracy: 0.8946\n",
            "Epoch 27/50\n",
            "55/55 [==============================] - 5s 99ms/step - loss: 0.0796 - accuracy: 0.9745 - val_loss: 0.4325 - val_accuracy: 0.9003\n",
            "Epoch 28/50\n",
            "55/55 [==============================] - 5s 99ms/step - loss: 0.0852 - accuracy: 0.9731 - val_loss: 0.4261 - val_accuracy: 0.9038\n",
            "Epoch 29/50\n",
            "55/55 [==============================] - 5s 99ms/step - loss: 0.0763 - accuracy: 0.9788 - val_loss: 0.4531 - val_accuracy: 0.9026\n",
            "Epoch 30/50\n",
            "55/55 [==============================] - 5s 98ms/step - loss: 0.0736 - accuracy: 0.9767 - val_loss: 0.4927 - val_accuracy: 0.9026\n",
            "Epoch 31/50\n",
            "55/55 [==============================] - 5s 99ms/step - loss: 0.0580 - accuracy: 0.9804 - val_loss: 0.5633 - val_accuracy: 0.9015\n",
            "Epoch 32/50\n",
            "55/55 [==============================] - 5s 99ms/step - loss: 0.0657 - accuracy: 0.9794 - val_loss: 0.5783 - val_accuracy: 0.8923\n",
            "Epoch 33/50\n",
            "55/55 [==============================] - 5s 99ms/step - loss: 0.0641 - accuracy: 0.9802 - val_loss: 0.4530 - val_accuracy: 0.9061\n",
            "Epoch 34/50\n",
            "55/55 [==============================] - 5s 99ms/step - loss: 0.0689 - accuracy: 0.9791 - val_loss: 0.5683 - val_accuracy: 0.8923\n",
            "Epoch 35/50\n",
            "55/55 [==============================] - 5s 99ms/step - loss: 0.0639 - accuracy: 0.9805 - val_loss: 0.5365 - val_accuracy: 0.8935\n",
            "Epoch 36/50\n",
            "55/55 [==============================] - 5s 99ms/step - loss: 0.0700 - accuracy: 0.9754 - val_loss: 0.4897 - val_accuracy: 0.8935\n",
            "Epoch 37/50\n",
            "55/55 [==============================] - 5s 99ms/step - loss: 0.0569 - accuracy: 0.9837 - val_loss: 0.4898 - val_accuracy: 0.9015\n",
            "Epoch 38/50\n",
            "55/55 [==============================] - 5s 99ms/step - loss: 0.0629 - accuracy: 0.9788 - val_loss: 0.4809 - val_accuracy: 0.8820\n",
            "Epoch 39/50\n",
            "55/55 [==============================] - 5s 99ms/step - loss: 0.0551 - accuracy: 0.9818 - val_loss: 0.6748 - val_accuracy: 0.8912\n",
            "Epoch 40/50\n",
            "55/55 [==============================] - 5s 99ms/step - loss: 0.0911 - accuracy: 0.9745 - val_loss: 0.4893 - val_accuracy: 0.9015\n",
            "Epoch 41/50\n",
            "55/55 [==============================] - 5s 99ms/step - loss: 0.0718 - accuracy: 0.9791 - val_loss: 0.5202 - val_accuracy: 0.8958\n",
            "Epoch 42/50\n",
            "55/55 [==============================] - 5s 99ms/step - loss: 0.0582 - accuracy: 0.9821 - val_loss: 0.5461 - val_accuracy: 0.8958\n",
            "Epoch 43/50\n",
            "55/55 [==============================] - 5s 99ms/step - loss: 0.0547 - accuracy: 0.9814 - val_loss: 0.5691 - val_accuracy: 0.8981\n",
            "Epoch 44/50\n",
            "55/55 [==============================] - 5s 99ms/step - loss: 0.0556 - accuracy: 0.9835 - val_loss: 0.4746 - val_accuracy: 0.8969\n",
            "Epoch 45/50\n",
            "55/55 [==============================] - 5s 99ms/step - loss: 0.0566 - accuracy: 0.9818 - val_loss: 0.5017 - val_accuracy: 0.8981\n",
            "Epoch 46/50\n",
            "55/55 [==============================] - 5s 99ms/step - loss: 0.0647 - accuracy: 0.9784 - val_loss: 0.4702 - val_accuracy: 0.9038\n",
            "Epoch 47/50\n",
            "55/55 [==============================] - 5s 99ms/step - loss: 0.0535 - accuracy: 0.9855 - val_loss: 0.5429 - val_accuracy: 0.8900\n",
            "Epoch 48/50\n",
            "55/55 [==============================] - 5s 99ms/step - loss: 0.0591 - accuracy: 0.9814 - val_loss: 0.4926 - val_accuracy: 0.9038\n",
            "Epoch 49/50\n",
            "55/55 [==============================] - 5s 99ms/step - loss: 0.0501 - accuracy: 0.9838 - val_loss: 0.5271 - val_accuracy: 0.9015\n",
            "Epoch 50/50\n",
            "55/55 [==============================] - 5s 99ms/step - loss: 0.0482 - accuracy: 0.9853 - val_loss: 0.5119 - val_accuracy: 0.9049\n"
          ]
        }
      ]
    },
    {
      "cell_type": "markdown",
      "source": [
        "# Visualize the Results"
      ],
      "metadata": {
        "id": "j3ct4pVEGDAQ"
      }
    },
    {
      "cell_type": "code",
      "source": [
        "import matplotlib.pyplot as plt\n",
        "\n",
        "# Plot the the training loss\n",
        "plt.plot(results.history[\"loss\"], label=\"Loss\")\n",
        "\n",
        "# Plot the the validation loss\n",
        "plt.plot(results.history[\"val_loss\"], label=\"Validation_Loss\")\n",
        "\n",
        "# Name the x and y axises\n",
        "plt.xlabel(\"Epoch\")\n",
        "plt.ylabel(\"Loss\")\n",
        "\n",
        "# Put legend table\n",
        "plt.legend()\n",
        "\n",
        "# Show the plot\n",
        "plt.show()"
      ],
      "metadata": {
        "colab": {
          "base_uri": "https://localhost:8080/",
          "height": 279
        },
        "id": "ELvI6OqkGGBk",
        "outputId": "36544c93-8506-4677-d7aa-0d6ff66e24a0"
      },
      "execution_count": 16,
      "outputs": [
        {
          "output_type": "display_data",
          "data": {
            "text/plain": [
              "<Figure size 432x288 with 1 Axes>"
            ],
            "image/png": "[encoded data removed]"
          },
          "metadata": {
            "needs_background": "light"
          }
        }
      ]
    },
    {
      "cell_type": "code",
      "source": [
        "# Plot the the training accuracy\n",
        "plt.plot(results.history[\"accuracy\"], label=\"Accuracy\")\n",
        "\n",
        "# Plot the the validation accuracy\n",
        "plt.plot(results.history[\"val_accuracy\"], label=\"Validation Accuracy\")\n",
        "\n",
        "# Name the x and y axises\n",
        "plt.xlabel(\"Epoch\")\n",
        "plt.ylabel(\"Accuracy\")\n",
        "\n",
        "# Put legend table\n",
        "plt.legend()\n",
        "\n",
        "# Show the plot\n",
        "plt.show()"
      ],
      "metadata": {
        "colab": {
          "base_uri": "https://localhost:8080/",
          "height": 279
        },
        "id": "OPLCsmhbGUh4",
        "outputId": "79013b86-bbbb-46ee-ad97-ddb8771be482"
      },
      "execution_count": 17,
      "outputs": [
        {
          "output_type": "display_data",
          "data": {
            "text/plain": [
              "<Figure size 432x288 with 1 Axes>"
            ],
            "image/png": "[encoded data removed]"
          },
          "metadata": {
            "needs_background": "light"
          }
        }
      ]
    },
    {
      "cell_type": "markdown",
      "source": [
        "# Performance Evaluation"
      ],
      "metadata": {
        "id": "QExsz28oGYCh"
      }
    },
    {
      "cell_type": "code",
      "source": [
        "# Evaluate the performance\n",
        "model.evaluate(np.array(X_Test), np.array(Y_Test))"
      ],
      "metadata": {
        "colab": {
          "base_uri": "https://localhost:8080/"
        },
        "id": "mEiPp-M_GbZ-",
        "outputId": "ce02f13b-54fc-4f54-dcb4-ff19a9be57cf"
      },
      "execution_count": 19,
      "outputs": [
        {
          "output_type": "stream",
          "name": "stdout",
          "text": [
            "28/28 [==============================] - 1s 14ms/step - loss: 0.6666 - accuracy: 0.8993\n"
          ]
        },
        {
          "output_type": "execute_result",
          "data": {
            "text/plain": [
              "[0.6666243672370911, 0.8993135094642639]"
            ]
          },
          "metadata": {},
          "execution_count": 19
        }
      ]
    },
    {
      "cell_type": "markdown",
      "source": [
        "# Try a Prediction"
      ],
      "metadata": {
        "id": "UlKnX1bVGtku"
      }
    },
    {
      "cell_type": "code",
      "source": [
        "# Make prediction on the reshaped sample\n",
        "idx = 367\n",
        "prediction_result = model.predict(X_Test[idx].reshape(1, 128, 128, 1))\n",
        "\n",
        "# Print the prediction result\n",
        "prediction_result"
      ],
      "metadata": {
        "colab": {
          "base_uri": "https://localhost:8080/"
        },
        "id": "TnwGHgSRGv-t",
        "outputId": "c010a0fc-975a-472d-a6bf-0c5114f307e7"
      },
      "execution_count": 31,
      "outputs": [
        {
          "output_type": "execute_result",
          "data": {
            "text/plain": [
              "array([[2.8163205e-09, 2.3548555e-10, 9.9994767e-01, 1.3125166e-05,\n",
              "        7.1312081e-11, 1.0327483e-08, 1.8842061e-10, 1.7585240e-12,\n",
              "        3.6096291e-05, 3.1718437e-06]], dtype=float32)"
            ]
          },
          "metadata": {},
          "execution_count": 31
        }
      ]
    },
    {
      "cell_type": "code",
      "source": [
        "# Find the predicted class\n",
        "predicted_class = prediction_result.argmax()\n",
        "# Find the prediction probability\n",
        "predicted_probability = prediction_result.max()\n",
        "\n",
        "# Print the results\n",
        "print(\"*************************************************\")\n",
        "print(f\"The Predicted Class for Test Data idx={idx} is {GetClassName(predicted_class)} with {predicted_probability} probability\")\n",
        "print(\"*************************************************\")\n",
        "# Check the actual category\n",
        "print(f\"The Test Data idx={idx} is classified as {GetClassName(Y_Test[idx])}\")\n",
        "print(\"The data:\")\n",
        "print(X_Test[idx])\n",
        "print(X_Test[idx].shape)\n",
        "\n"
      ],
      "metadata": {
        "colab": {
          "base_uri": "https://localhost:8080/"
        },
        "id": "upQS1jt4HlzA",
        "outputId": "d3df9582-f738-4e72-c5f5-7d3a3daff5ee"
      },
      "execution_count": 32,
      "outputs": [
        {
          "output_type": "stream",
          "name": "stdout",
          "text": [
            "*************************************************\n",
            "The Predicted Class for Test Data idx=367 is children_playing with 0.9999476671218872 probability\n",
            "*************************************************\n",
            "The Test Data idx=367 is classified as children_playing\n",
            "The data:\n",
            "[[1.         0.2627451  0.         ... 0.         0.         0.        ]\n",
            " [1.         0.26666667 0.         ... 0.         0.         0.        ]\n",
            " [1.         0.26666667 0.         ... 0.         0.         0.        ]\n",
            " ...\n",
            " [1.         0.41176471 0.36078431 ... 0.44313725 0.41568627 0.39215686]\n",
            " [1.         0.54901961 0.44313725 ... 0.47843137 0.47058824 0.45882353]\n",
            " [1.         1.         1.         ... 1.         1.         1.        ]]\n",
            "(128, 128)\n"
          ]
        }
      ]
    },
    {
      "cell_type": "markdown",
      "source": [
        "# Try Another Prediction"
      ],
      "metadata": {
        "id": "U4ZCXv-SJG1L"
      }
    },
    {
      "cell_type": "code",
      "source": [
        "# Make prediction on the reshaped sample\n",
        "idx2 = 625\n",
        "prediction_result = model.predict(X_Test[idx2].reshape(1, 128, 128, 1))\n",
        "\n",
        "# Find the predicted class\n",
        "predicted_class = prediction_result.argmax()\n",
        "# Find the prediction probability\n",
        "predicted_probability = prediction_result.max()\n",
        "\n",
        "# Print the results\n",
        "print(\"*************************************************\")\n",
        "print(f\"The Predicted Class for Test Data idx={idx2} is {GetClassName(predicted_class)} with {predicted_probability} probability\")\n",
        "print(\"*************************************************\")\n",
        "# Check the actual category\n",
        "print(f\"The Test Data idx={idx} is classified as {GetClassName(Y_Test[idx2])}\")\n",
        "print(\"The data:\")\n",
        "print(X_Test[idx2])\n",
        "print(X_Test[idx2].shape)\n"
      ],
      "metadata": {
        "colab": {
          "base_uri": "https://localhost:8080/"
        },
        "id": "_H0klgisJJOw",
        "outputId": "3d964dad-fcdb-4947-c3c6-f22a0aba98a5"
      },
      "execution_count": 33,
      "outputs": [
        {
          "output_type": "stream",
          "name": "stdout",
          "text": [
            "*************************************************\n",
            "The Predicted Class for Test Data idx=625 is air_conditioner with 0.9999979734420776 probability\n",
            "*************************************************\n",
            "The Test Data idx=367 is classified as air_conditioner\n",
            "The data:\n",
            "[[1.         0.2627451  0.         ... 0.         0.         0.        ]\n",
            " [1.         0.26666667 0.         ... 0.         0.         0.        ]\n",
            " [1.         0.26666667 0.         ... 0.         0.         0.        ]\n",
            " ...\n",
            " [1.         0.50196078 0.6745098  ... 0.6        0.69803922 0.64705882]\n",
            " [1.         0.57647059 0.52156863 ... 0.51764706 0.53333333 0.52156863]\n",
            " [1.         1.         1.         ... 1.         1.         1.        ]]\n",
            "(128, 128)\n"
          ]
        }
      ]
    }
  ]
}